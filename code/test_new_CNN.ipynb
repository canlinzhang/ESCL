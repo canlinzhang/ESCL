{
 "cells": [
  {
   "cell_type": "code",
   "execution_count": 1,
   "id": "794bc9e1",
   "metadata": {
    "executionInfo": {
     "elapsed": 11181,
     "status": "ok",
     "timestamp": 1661742425376,
     "user": {
      "displayName": "Canlin Zhang",
      "userId": "02855151338006514126"
     },
     "user_tz": 240
    },
    "id": "164a63f8"
   },
   "outputs": [],
   "source": [
    "from numpy import unique, argmax\n",
    "from tensorflow.keras.datasets.mnist import load_data\n",
    "from tensorflow.keras import Sequential\n",
    "from tensorflow.keras.layers import Conv2D\n",
    "from tensorflow.keras.layers import MaxPool2D\n",
    "from tensorflow.keras.layers import Dense\n",
    "from tensorflow.keras.layers import Flatten\n",
    "from tensorflow.keras.layers import Dropout\n",
    "from tensorflow.keras.utils import plot_model\n",
    "from matplotlib import pyplot\n",
    "import matplotlib.pyplot as plt\n",
    "import numpy as np"
   ]
  },
  {
   "cell_type": "code",
   "execution_count": 5,
   "id": "dba9c07e",
   "metadata": {
    "id": "f01613dd"
   },
   "outputs": [],
   "source": [
    "#loading the MNIST dataseet\n",
    "(x_train, y_train), (x_test, y_test) = load_data()\n",
    "\n",
    "#reshaping to training and testing data\n",
    "x_train = x_train.reshape((x_train.shape[0], x_train.shape[1], x_train.shape[2], 1))\n",
    "\n",
    "x_test = x_test.reshape((x_test.shape[0], x_test.shape[1], x_test.shape[2], 1))"
   ]
  },
  {
   "cell_type": "code",
   "execution_count": null,
   "id": "d5dd2dc4",
   "metadata": {
    "id": "80737e28"
   },
   "outputs": [],
   "source": []
  },
  {
   "cell_type": "code",
   "execution_count": null,
   "id": "fa2e126b",
   "metadata": {
    "id": "53dd27b5"
   },
   "outputs": [],
   "source": []
  },
  {
   "cell_type": "code",
   "execution_count": null,
   "id": "d181c0ed",
   "metadata": {
    "id": "c45389c5"
   },
   "outputs": [],
   "source": []
  },
  {
   "cell_type": "code",
   "execution_count": null,
   "id": "3937d83a",
   "metadata": {
    "id": "0f0175ba"
   },
   "outputs": [],
   "source": []
  },
  {
   "cell_type": "code",
   "execution_count": null,
   "id": "9212e86a",
   "metadata": {
    "id": "0fd5f962"
   },
   "outputs": [],
   "source": []
  },
  {
   "cell_type": "code",
   "execution_count": null,
   "id": "8ef286a7",
   "metadata": {
    "id": "b522f303"
   },
   "outputs": [],
   "source": []
  },
  {
   "cell_type": "code",
   "execution_count": null,
   "id": "65c78525",
   "metadata": {
    "id": "509edeac"
   },
   "outputs": [],
   "source": []
  },
  {
   "cell_type": "code",
   "execution_count": null,
   "id": "de215974",
   "metadata": {
    "id": "6f9264c8"
   },
   "outputs": [],
   "source": []
  },
  {
   "cell_type": "code",
   "execution_count": null,
   "id": "00a31f19",
   "metadata": {
    "id": "2714a9e1"
   },
   "outputs": [],
   "source": []
  },
  {
   "cell_type": "code",
   "execution_count": null,
   "id": "83493bdc",
   "metadata": {
    "id": "0a5ddb36"
   },
   "outputs": [],
   "source": []
  },
  {
   "cell_type": "code",
   "execution_count": null,
   "id": "fc62db04",
   "metadata": {
    "id": "227d0312"
   },
   "outputs": [],
   "source": []
  },
  {
   "cell_type": "code",
   "execution_count": null,
   "id": "7facd15a",
   "metadata": {
    "id": "b79e5351"
   },
   "outputs": [],
   "source": []
  },
  {
   "cell_type": "code",
   "execution_count": null,
   "id": "272c3789",
   "metadata": {
    "id": "71e1815d"
   },
   "outputs": [],
   "source": []
  },
  {
   "cell_type": "code",
   "execution_count": null,
   "id": "21077e09",
   "metadata": {
    "id": "5ece1dd8"
   },
   "outputs": [],
   "source": []
  },
  {
   "cell_type": "code",
   "execution_count": null,
   "id": "bdccfe0c",
   "metadata": {
    "id": "ad4d8a23"
   },
   "outputs": [],
   "source": []
  }
 ],
 "metadata": {
  "colab": {
   "collapsed_sections": [],
   "name": "test_new_CNN.ipynb",
   "provenance": []
  },
  "kernelspec": {
   "display_name": "conda_tensorflow2_p38",
   "language": "python",
   "name": "conda_tensorflow2_p38"
  },
  "language_info": {
   "codemirror_mode": {
    "name": "ipython",
    "version": 3
   },
   "file_extension": ".py",
   "mimetype": "text/x-python",
   "name": "python",
   "nbconvert_exporter": "python",
   "pygments_lexer": "ipython3",
   "version": "3.8.12"
  }
 },
 "nbformat": 4,
 "nbformat_minor": 5
}
